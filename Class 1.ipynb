{
 "cells": [
  {
   "cell_type": "code",
   "execution_count": 1,
   "id": "b6cf022e-fb38-4418-b863-e0e184156c83",
   "metadata": {},
   "outputs": [
    {
     "name": "stdout",
     "output_type": "stream",
     "text": [
      "h\n",
      "e\n",
      "l\n",
      "l\n",
      "o\n",
      ",\n",
      " \n",
      "w\n",
      "o\n",
      "r\n",
      "l\n",
      "d\n"
     ]
    }
   ],
   "source": [
    "for char in \"hello, world\":\n",
    "    print(char)"
   ]
  },
  {
   "cell_type": "markdown",
   "id": "268f8555-62df-42c7-8e1c-5fa83141c4fd",
   "metadata": {},
   "source": [
    "# Problem 1\n",
    "\n",
    "## Anagram Check\n",
    "\n",
    "Given two strings as parameters, define a function (anagram_check) that returns True if these are anagrams of each other, \n",
    "False otherwise.\n",
    "\n",
    "## Criteria\n",
    "Two strings are anagrams of each other if *all* the criteria below are met:\n",
    "1. They much be equal length (in numbers of letters).\n",
    "2. They must use the same letters the same amount of times.\n",
    "\n",
    "## Examples\n",
    "```\n",
    "heart and earth\n",
    "cars and scar\n",
    "star and rats\n",
    "```"
   ]
  },
  {
   "cell_type": "code",
   "execution_count": 2,
   "id": "7e9a59fd-d531-46d9-80f3-00b85460778d",
   "metadata": {},
   "outputs": [],
   "source": [
    "# In the popular Harry Potter saga the villians name is \"Voldemort\" is chosed because it is an anagram of his original human \n",
    "# name. This is based on the phrases: \"I am Lord Voldemort\" and \"Tom Marvolo Riddle\""
   ]
  },
  {
   "cell_type": "code",
   "execution_count": 3,
   "id": "a386b224-07b1-441c-a322-4f7f58571870",
   "metadata": {},
   "outputs": [],
   "source": [
    "# A poor solution\n",
    "def anagram_check(string1, string2):\n",
    "    return sorted(string1) == sorted(string2)"
   ]
  },
  {
   "cell_type": "code",
   "execution_count": 4,
   "id": "3d0bcf9c-525d-4f52-8156-e834b49cdc32",
   "metadata": {},
   "outputs": [
    {
     "data": {
      "text/plain": [
       "False"
      ]
     },
     "execution_count": 4,
     "metadata": {},
     "output_type": "execute_result"
    }
   ],
   "source": [
    "anagram_check(\"I am Lord Voldmort\", \"Tom Marvolo Riddle\")"
   ]
  },
  {
   "cell_type": "code",
   "execution_count": 5,
   "id": "4e784377-3d9d-4b85-96fb-f5fd3e41562b",
   "metadata": {},
   "outputs": [],
   "source": [
    "# defin my function \"anagram_check\" which reveives string1 of type string and string2 of type string:\n",
    "# string1 = string1 without spaces\n",
    "# string2 = string2 without spaces\n",
    "# string1 = string1 in lower case\n",
    "# string2 = string2 in lower case\n",
    "# if the length of string1 and the length of string2 are not equal:\n",
    "#   return False\n",
    "# dict_a = new Dictionary\n",
    "# dict_b = new Dictionary\n",
    "# for number in the range between  0 and the length of string1:\n",
    "#     if the character at position \"number\" in string1 is in dicti_a:\n",
    "#        add 1 to the value associated with that character\n",
    "#     otherwise:\n",
    "#        create a new key in dicti_a for the character with its value set to 1\n",
    "#     if the character at position \"number\" in string2 is in dicti_b:\n",
    "#        add 1 to the value associated with that character\n",
    "#     otherwise:\n",
    "#        create a new key in dicti_a for the character with its value set to 1\n",
    "#   if dicti_a is equal to dicti_b:\n",
    "#     return True\n",
    "#    otherwise:\n",
    "#        return False\n"
   ]
  },
  {
   "cell_type": "code",
   "execution_count": null,
   "id": "4f76c733-11f5-4cac-a3fb-d29be9add60e",
   "metadata": {},
   "outputs": [],
   "source": [
    "def anagram_check(string1, string2):\n",
    "    if string1.len.lower != string2.len.lower:\n",
    "    return False\n",
    "else: string1.replace(\" \",\"\") && string2.replace(\" \",\"\")\n",
    "\n",
    "\n",
    "    \n",
    "\n",
    "\n"
   ]
  }
 ],
 "metadata": {
  "kernelspec": {
   "display_name": "Python 3 (ipykernel)",
   "language": "python",
   "name": "python3"
  },
  "language_info": {
   "codemirror_mode": {
    "name": "ipython",
    "version": 3
   },
   "file_extension": ".py",
   "mimetype": "text/x-python",
   "name": "python",
   "nbconvert_exporter": "python",
   "pygments_lexer": "ipython3",
   "version": "3.10.12"
  }
 },
 "nbformat": 4,
 "nbformat_minor": 5
}
