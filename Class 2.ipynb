{
 "cells": [
  {
   "cell_type": "markdown",
   "id": "d4aa5bd3-74c4-46b6-b7bf-90bcef390a7a",
   "metadata": {},
   "source": [
    "# Stack"
   ]
  },
  {
   "cell_type": "markdown",
   "id": "69e95cc8-25f1-4812-8b7b-df1e6f0ec159",
   "metadata": {},
   "source": [
    "# simplified implementation of stack (relying on built-ins)\n",
    "\n",
    "class Stack:\n",
    "    def __init__(self):\n",
    "        self.items = []\n",
    "\n",
    "    def push(self, element):\n",
    "        self.items.append(element)\n",
    "\n",
    "    def pop(self):\n",
    "        return self.items.pop()\n",
    "\n",
    "    # nice to have methods\n",
    "    def peek(self):\n",
    "        return self.items[len(self.items)-1]\n",
    "\n",
    "    def size(self):\n",
    "        return len(self.items)\n",
    "\n",
    "    def is_empty(self):\n",
    "        return self.items == []\n",
    "\n"
   ]
  },
  {
   "cell_type": "markdown",
   "id": "8fd8994b-9d90-46fa-9b95-7294b5b3d34f",
   "metadata": {},
   "source": [
    "# Problem 1\n",
    "\n",
    "## Inverting strings\n",
    "Create a function that *must* use the `Stack` class above to invert a string.\n",
    "In general, your functions's flow should follow these steps:\n",
    "0. Your function should reveive a string as a parameter.\n",
    "1. Create an instance of `Stack`.\n",
    "2. PUsh all the elements in the string onto your stack (via looping and calling the push method).\n",
    "3. Create an empty strings.\n",
    "4. Loop until the stack is empty, calling pop on your instance  of `Stack` and feeding the popped element to your output string.\n",
    "5. Return the output string once the stack is empty (hint: consider the `is_empty` method).\n",
    "\n",
    "## Examples \n",
    "```\n",
    "rafael -> leafar\n",
    "cars -> srac\n",
    "hello -> olleh\n",
    "```"
   ]
  },
  {
   "cell_type": "code",
   "execution_count": 4,
   "id": "76cf38cd-2969-43d6-a551-cd8c790b42a4",
   "metadata": {},
   "outputs": [],
   "source": [
    "def invert_str(string):\n",
    "    # Step 0: Create an instance of the Stack class\n",
    "    stack = Stack()\n",
    "\n",
    "    # Push all characters in the string onto the stack\n",
    "    for char in string:\n",
    "        stack.push(char)\n",
    "\n",
    "    # Initialize an empty string to build the reversed string\n",
    "    out = \"\"\n",
    "\n",
    "    # Pop characters from the stack until it's empty and build the reversed string\n",
    "    while not stack.is_empty():\n",
    "        out += stack.pop()\n",
    "\n",
    "    # Return the reversed string\n",
    "    return out\n"
   ]
  },
  {
   "cell_type": "code",
   "execution_count": 5,
   "id": "f2a831f4-49d8-4196-bf5c-9a0e8316ea73",
   "metadata": {},
   "outputs": [
    {
     "data": {
      "text/plain": [
       "'noruT'"
      ]
     },
     "execution_count": 5,
     "metadata": {},
     "output_type": "execute_result"
    }
   ],
   "source": [
    "invert_str(\"Turon\")"
   ]
  },
  {
   "cell_type": "code",
   "execution_count": 11,
   "id": "4ddcdb0b-f6da-4d70-a1ec-df0515c869d3",
   "metadata": {},
   "outputs": [],
   "source": [
    "# From scratch implementation of Stack\n",
    "\n",
    "class StackII:\n",
    "    class __Node:\n",
    "        def __init__(self, data):\n",
    "            self.data = data\n",
    "            self.below = None\n",
    "\n",
    "    def __init__(self):\n",
    "        self.top = None\n",
    "\n",
    "    def push(self, value):\n",
    "        new_node = self.__Node(value)\n",
    "        if not self.top:\n",
    "            self.top = new_node\n",
    "        else:\n",
    "            old_top = self.top\n",
    "            new_node.below = old_top\n",
    "            self.top = new_node\n",
    "\n",
    "    def pop(self):\n",
    "        if self.top:\n",
    "            datum = self.top.data\n",
    "            self.top = self.top.below\n",
    "            return datum\n",
    "        raise IndexError(\"Stack is empty\")\n",
    "\n",
    "    # Nice to have methods (boilerplates)\n",
    "    def peek(self):      # this is easy (can ge done in as little as 1 line of code)\n",
    "        pass             # the peek operation shows you the data point on the topmost node, without removing it from the stack\n",
    "\n",
    "    def size(self):      # this one is more challenging\n",
    "        pass             # This method counts the number of nodes in our stack.\n",
    "\n",
    "    def is_empty(self):   # this is easy (can be done in a little as 1 line of code)\n",
    "        pass              # returns True when the stack is empty, False otherwise\n"
   ]
  },
  {
   "cell_type": "code",
   "execution_count": 12,
   "id": "96dffa99-6e49-4d2f-9f43-f1a5f87e6177",
   "metadata": {},
   "outputs": [
    {
     "name": "stdout",
     "output_type": "stream",
     "text": [
      "hello\n"
     ]
    }
   ],
   "source": [
    "stack = StackII()\n",
    "\n",
    "stack.push(\"hello\")\n",
    "out = stack.pop()\n",
    "\n",
    "print(out)\n"
   ]
  },
  {
   "cell_type": "code",
   "execution_count": 13,
   "id": "aef3cdb7-5f2f-452f-9e82-cc64d99fce52",
   "metadata": {},
   "outputs": [],
   "source": [
    "# Simplified implementation of Queue (relying on built-ins)\n",
    "\n",
    "class Queue:\n",
    "    def __init__(self):\n",
    "        # Initialize an empty list to store queue items\n",
    "        self.items = []\n",
    "\n",
    "    def enqueue(self, value):\n",
    "        # Add an item to the end of the queue\n",
    "        self.items.insert(0, value)\n",
    "\n",
    "    def dequeue(self):\n",
    "        # Remove and return the item from the end of the queue\n",
    "        return self.items.pop()\n",
    "\n",
    "    def peek(self):\n",
    "        # Return the item at the end of the queue without removing it\n",
    "        return self.items[len(self.items) - 1]\n",
    "\n",
    "    def size(self):\n",
    "        # Return the number of items in the queue\n",
    "        return len(self.items)\n",
    "\n",
    "    def is_empty(self):\n",
    "        # Check if the queue is empty\n",
    "        return self.items == []\n"
   ]
  },
  {
   "cell_type": "markdown",
   "id": "e297b73e-70fb-4f4d-b84c-d43dbfb3a162",
   "metadata": {},
   "source": [
    "## Problem 2\n",
    "\n",
    "## From scratch implementation of Queue\n",
    "Generate a class called QueueII which does not rely on built-ins yet represents the operations required to quealify as a queue (considering the\n",
    "ordering principle which is FIFO -- first in, first out).\n",
    "\n",
    "### Acceptance Criteria\n",
    "1. You must have an enqueue method, which adds new elements to the back or rear of the queue.\n",
    "2. You mush have a dequeue method, which removes and returns elements from the front of the queue.\n",
    "\n",
    "### Bonus\n",
    "Implement all the \"nice to have\" methods on QueueuII and validate them by testing manually."
   ]
  },
  {
   "cell_type": "code",
   "execution_count": 16,
   "id": "546a2ed6-445e-474d-953a-9e95057a278d",
   "metadata": {},
   "outputs": [],
   "source": [
    "# From scratch implementation of Queue (no built-ins)\n",
    "# Boilerplate\n",
    "\n",
    "class QueueII:\n",
    "    class __Node:\n",
    "        def __init__(self, data):\n",
    "            # Node initialization\n",
    "            self.data = data\n",
    "            self.next = None\n",
    "\n",
    "    def __init__(self):\n",
    "        # Initialize an empty queue\n",
    "        self.rear = None\n",
    "        self.front = None\n",
    "\n",
    "    def enqueue(self, value):\n",
    "        new_node = self.__Node(value)\n",
    "        if not self.rear:\n",
    "            self.rear = new_node\n",
    "            self.front = new_node\n",
    "        else:\n",
    "            old_rear = self.rear\n",
    "            self.rear.next = new_node\n",
    "            self.rear = new_node\n",
    "\n",
    "    def dequeue(self):\n",
    "        is self.front:\n",
    "            datum = self.front.data\n",
    "        self.front = self.front.next\n",
    "        if not self.front:\n",
    "            return datum\n",
    "        raise IndexError(\"Queue is empty\")\n",
    "\n",
    "    defis_empty(self):\n",
    "    return self.front == None\n",
    "\n",
    "    \n",
    "\n",
    "\n",
    "    def peek(self):\n",
    "        is self.front:\n",
    "            return self.front.data\n",
    "        raised IndexError(\"Queue is empty\")\n",
    "\n",
    "    def suze(self\n"
   ]
  },
  {
   "cell_type": "code",
   "execution_count": 17,
   "id": "f8908501-7a53-4b34-b553-375ce51dbd01",
   "metadata": {},
   "outputs": [
    {
     "name": "stdout",
     "output_type": "stream",
     "text": [
      "Enqueuing 0...\n",
      "Enqueuing 1...\n",
      "Enqueuing 2...\n",
      "Enqueuing 3...\n",
      "Enqueuing 4...\n",
      "Enqueuing 5...\n",
      "Enqueuing 6...\n",
      "Enqueuing 7...\n",
      "Enqueuing 8...\n",
      "Enqueuing 9...\n",
      "Enqueuing 10...\n",
      "Now let's dequeue, until our queue is empty\n",
      "The dequeued element is: 0\n",
      "The dequeued element is: 1\n",
      "The dequeued element is: 2\n",
      "The dequeued element is: 3\n",
      "The dequeued element is: 4\n",
      "The dequeued element is: 5\n",
      "The dequeued element is: 6\n",
      "The dequeued element is: 7\n",
      "The dequeued element is: 8\n",
      "The dequeued element is: 9\n",
      "The dequeued element is: 10\n",
      "Queue is empty (again)\n"
     ]
    }
   ],
   "source": [
    "queue = Queue()\n",
    "\n",
    "for number in range(11):\n",
    "    print(\"Enqueuing %s...\" % number)\n",
    "    queue.enqueue(number)\n",
    "\n",
    "print(\"Now let's dequeue, until our queue is empty\")\n",
    "\n",
    "while not queue.is_empty():\n",
    "    next_element = queue.dequeue()\n",
    "    print(\"The dequeued element is: %s\" % next_element)\n",
    "\n",
    "print(\"Queue is empty (again)\")"
   ]
  },
  {
   "cell_type": "code",
   "execution_count": null,
   "id": "16264990-8277-4179-bc48-0c8eb0b1411b",
   "metadata": {},
   "outputs": [],
   "source": []
  }
 ],
 "metadata": {
  "kernelspec": {
   "display_name": "Python 3 (ipykernel)",
   "language": "python",
   "name": "python3"
  },
  "language_info": {
   "codemirror_mode": {
    "name": "ipython",
    "version": 3
   },
   "file_extension": ".py",
   "mimetype": "text/x-python",
   "name": "python",
   "nbconvert_exporter": "python",
   "pygments_lexer": "ipython3",
   "version": "3.10.12"
  }
 },
 "nbformat": 4,
 "nbformat_minor": 5
}
