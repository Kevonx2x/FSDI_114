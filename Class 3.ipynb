{
 "cells": [
  {
   "cell_type": "markdown",
   "id": "64f95694-ca64-4a1a-9d2a-14ad374f8132",
   "metadata": {},
   "source": [
    "# Linked Lists\n",
    "\n",
    "In todays class, were going to introdue two variable of linked lists:\n",
    "\n",
    "1. singling Linked List (uni-directional)\n",
    "2. Dould linked list (bi-directional)\n",
    "\n"
   ]
  },
  {
   "cell_type": "code",
   "execution_count": 1,
   "id": "5f516fc5-00f6-4805-9a05-e7d7ed11da9c",
   "metadata": {},
   "outputs": [
    {
     "name": "stdout",
     "output_type": "stream",
     "text": [
      "[]\n",
      "[0]\n",
      "[0, 1]\n"
     ]
    }
   ],
   "source": [
    "mylist = []\n",
    "# printing an empty list:\n",
    "print(mylist)\n",
    "\n",
    "mylist.append(0)\n",
    "#print a list with exatly one element:\n",
    "print(mylist)\n",
    "\n",
    "mylist.append(1)\n",
    "# printing a list with more than one element\n",
    "print(mylist)\n",
    "\n"
   ]
  },
  {
   "cell_type": "code",
   "execution_count": 5,
   "id": "e4b76ac5-890a-4e74-8751-6bb83bb68b37",
   "metadata": {},
   "outputs": [],
   "source": [
    "# From scratch implementation of Singly Linked List\n",
    "\n",
    "class SinglyLinkedList:\n",
    "    # Inner class to represent a node in the linked list\n",
    "    class __Node:\n",
    "        def __init__(self, data):\n",
    "            # Node stores the data and a reference to the next node in the list\n",
    "            self.data = data\n",
    "            self.next = None\n",
    "\n",
    "    def __init__(self):\n",
    "        # Initialize an empty linked list with head and tail pointers\n",
    "        self.head = None\n",
    "        self.tail = None\n",
    "\n",
    "    def append(self, value):\n",
    "        # Create a new node with the given value\n",
    "        new_node = self.__Node(value)\n",
    "        \n",
    "        if not self.head:  # If the list is empty\n",
    "            # Set both head and tail to the new node\n",
    "            self.head = new_node\n",
    "            self.tail = new_node\n",
    "        else:  # If the list is not empty\n",
    "            # Attach the new node to the end of the list and update the tail pointer\n",
    "            self.tail.next = new_node\n",
    "            self.tail = new_node\n",
    "\n",
    "    def __str__(self):\n",
    "        # Create a string representation of the list\n",
    "        out = \"[\"\n",
    "        current = self.head\n",
    "        \n",
    "        if current:  # If the list is not empty\n",
    "            # Add the data of the first node to the string\n",
    "            out += \"%s\" % repr(current.data)\n",
    "            while current.next:  # Traverse the list\n",
    "                current = current.next\n",
    "                # Add the data of each node to the string, separated by commas\n",
    "                out += \", %s\" % repr(current.data)\n",
    "        \n",
    "        # Close the list representation with a bracket\n",
    "        out += \"]\"\n",
    "        return out  # Return the string representation of the list\n"
   ]
  },
  {
   "cell_type": "code",
   "execution_count": 4,
   "id": "94884b6d-ef29-4499-8e15-6e0277d24bde",
   "metadata": {},
   "outputs": [
    {
     "name": "stdout",
     "output_type": "stream",
     "text": [
      "[]\n",
      "[0]\n",
      "[0, 1]\n"
     ]
    }
   ],
   "source": [
    "sll = SinglyLinkedList()\n",
    "\n",
    "#When the list is empty:\n",
    "print(sll)\n",
    "\n",
    "#when the list contains exactly one element\n",
    "sll.append(0)\n",
    "print(sll)\n",
    "\n",
    "sll.append(1)\n",
    "print(sll)"
   ]
  },
  {
   "cell_type": "code",
   "execution_count": null,
   "id": "408e715c-84d4-4719-b02c-36eb544b2070",
   "metadata": {},
   "outputs": [],
   "source": [
    "# With Python lists\n",
    "newlist = []\n",
    "\n",
    "# inserting at index 1000 on an empty list\n",
    "newlist.insert(1000, \"A\")\n",
    "\n",
    "print(newlist)"
   ]
  }
 ],
 "metadata": {
  "kernelspec": {
   "display_name": "Python 3 (ipykernel)",
   "language": "python",
   "name": "python3"
  },
  "language_info": {
   "codemirror_mode": {
    "name": "ipython",
    "version": 3
   },
   "file_extension": ".py",
   "mimetype": "text/x-python",
   "name": "python",
   "nbconvert_exporter": "python",
   "pygments_lexer": "ipython3",
   "version": "3.10.12"
  }
 },
 "nbformat": 4,
 "nbformat_minor": 5
}
